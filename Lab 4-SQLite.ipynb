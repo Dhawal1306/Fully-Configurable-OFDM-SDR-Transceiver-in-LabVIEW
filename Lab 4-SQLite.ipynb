{
 "cells": [
  {
   "cell_type": "markdown",
   "metadata": {},
   "source": [
    "####IMPORTANT Pre-Lab 4:  **Convert your Lab 3 file into pdf**\n",
    "\n",
    "**Enter these Commands in your terminal below**\n",
    "\n",
    "jupyter nbconvert ~/Downloads/\"Lab3-Descriptive Statistics-Yourname.ipynb\" --to pdf\n",
    "\n",
    "> **checkpoint1: Upload this file into your Lab3 dropbox before you proceed**\n",
    "\n",
    "> **once successful you are going to submit the documents after converting it to this format only from this point onwards**\n"
   ]
  },
  {
   "cell_type": "markdown",
   "metadata": {},
   "source": [
    "##### Objective: \n",
    "> **Setup the database enviroment using SQLite3 (client / Server)  \n",
    "> Create Database in SQLite3 environment  \n",
    "> Connect to the external database using Python  \n",
    "> Update database / Execute queries using Python**    \n",
    "\n",
    "\n",
    "**Part 1: Create the Database\n",
    "\n",
    "We are going to use SQLite to connect to the database. \n",
    "> SQLite is a library that implements a self-contained transactional SQL database engine that eliminates the need for an SQL server. A simple SQLite utility called sqlite3 can be installed in the Raspberry Pi. SQLite greatly simplifies the SQL database process.   \n",
    "> Also install csvkit, a set of tools designed to convert various databases to the .csv"
   ]
  },
  {
   "cell_type": "markdown",
   "metadata": {},
   "source": [
    "\n",
    "Step 1: Set up the working environment and Work with SQLite.\n",
    "\n",
    ">>**IMPORTANT NOTE**: If you are working with your raspberry pi, you can use STEPS 1-3 in your raspberry pi terminal window and setup the SQLite3 environment and create databases.\n",
    "\n",
    ">> However, right now we will use our Ubuntu termina window  \n",
    "\n",
    "a) Install SQLite & CSV kit\n",
    "\n",
    "**apt-get update  \n",
    "apt-get -y install sqlite3**\n",
    "\n",
    "After the installation process finishes, install cvskit by running the code cell below:  \n",
    "**pip install csvkit**\n"
   ]
  },
  {
   "cell_type": "markdown",
   "metadata": {},
   "source": [
    "b) Create a new SQLite database named **starfan.db**. To create the new database, execute the command below in the terminal window:\n",
    "\n",
    "**sqlite3 starfan.db**\n",
    "\n",
    "SQLite version 3.13.0 2016-05-18 10:57:30\n",
    "Enter \".help\" for usage hints.\n",
    "\n",
    "If you get above output, your database is created successfully\n"
   ]
  },
  {
   "cell_type": "markdown",
   "metadata": {},
   "source": [
    "c) create two tables in the starfan.db\n",
    "**Ensure you are at the sqlite3> prompt**\n",
    "\n",
    "> create table starwars(warsid integer,name varchar(20),title varchar(20),phone integer);  \n",
    "> create table technology(deptid integer,name varchar(20),phone integer);"
   ]
  },
  {
   "cell_type": "markdown",
   "metadata": {},
   "source": [
    "Q1: What does Varchar(20) mean in the above two tables? (2 points)\n",
    "\n",
    "Answer: "
   ]
  },
  {
   "cell_type": "markdown",
   "metadata": {},
   "source": [
    "to exit sqlite> type **.quit**\n",
    "\n",
    "Check into your terminal if the database is created or not: **ls -l starfan.db**"
   ]
  },
  {
   "cell_type": "markdown",
   "metadata": {},
   "source": [
    "##### STEP 2: Re-enter database and query\n",
    "> execute the command in Step 1b) above  \n",
    "a) Enter data into the database (ensure you have **sqlite>** prompt in the terminal window)  \n",
    "> **insert into starwars values(1,'Han Solo','Bounty Hunter',5534667578);**\n",
    "\n",
    "\n",
    "\n",
    "\n",
    "b) Add some more data into database\n",
    "1.  Create a csv file using your favorite editor from the terminal window  \n",
    " mine is **gedit**  \n",
    "2.  Type in **gedit starwars.csv** and copy paste the values given below into the editor  \n",
    "\n",
    "warsid,name,title,phone  \n",
    "101,Han Solo,Bounty Hunter,5556667578  \n",
    "102,Leia Skywalker,Princess,5556542398  \n",
    "103,Luke Skywalker,Jedi,5558963267  \n",
    "104,Obi-Wan Kenobi,Jedi,5558963276  \n",
    "105,Anakin Skywalker,Sith Lord,5553477621  \n",
    "106,Jabba The Hutt,Gangster,5556613456  \n",
    "107,Greedo,Debt Collector,5552360918  \n",
    "108,R2D2,Astro Droid,5555210125  \n",
    "109,C3PO,Protocol Droid,5556633345\n",
    "110,Queen Apailana,Queen,345671235  \n",
    "111,AP-5,Droid,3450987345  \n",
    "112,Doctor Aphra,Human,7056789001  \n",
    "\n",
    "3. Make sure there is not empty space in the editor. Save and close  \n",
    "\n",
    "4. Check the contents of the file in terminal. Use **cat /path/starwars.csv**"
   ]
  },
  {
   "cell_type": "markdown",
   "metadata": {},
   "source": [
    "> The contents of the file can also be viewed in the jupyter terminal. Execute the above command in the code cell below"
   ]
  },
  {
   "cell_type": "code",
   "execution_count": 36,
   "metadata": {},
   "outputs": [],
   "source": [
    "# view the contents of the file"
   ]
  },
  {
   "cell_type": "markdown",
   "metadata": {},
   "source": [
    "c) Import data into database.  \n",
    "> Since we already have the table starwars in the database, lets remove it first.\n",
    "Check to see the tables created earlier\n",
    "> sqlite> .tables\n",
    "starwars   department  \n",
    "\n",
    "> 1. Delete the starwars table **drop table starwars;**\n",
    "> 2. Verify the table is dropped **.tables**  \n",
    "> 3. use the csvkit to import the table into the database: **csvsql --db sqlite:////path/starfan.db --insert /path/starwars.csv**  \n",
    "> 4. Verify that the table is inserted"
   ]
  },
  {
   "cell_type": "markdown",
   "metadata": {},
   "source": [
    "d) Query the database.\n",
    "\n",
    "1. From the terminal, enter the sqlite3 prompt while selecting the starfan.db database: sqlite3 starfan.db\n",
    "\n",
    "sqlite>\n",
    "\n",
    "2. List all the contents of the starwars table: **sqlite> select * from starwars;**\n",
    "\n",
    "3. Execute another Query and test your dataset\n",
    "**sqlite> select name from starwars where title='Droid';**\n"
   ]
  },
  {
   "cell_type": "markdown",
   "metadata": {},
   "source": [
    "Q2: Can you build a query to display the names of the bounty hunters in the starwars table? (1 point)\n",
    "\n",
    "Answer: "
   ]
  },
  {
   "cell_type": "markdown",
   "metadata": {},
   "source": [
    "#### Part 3: Bring in Python"
   ]
  },
  {
   "cell_type": "code",
   "execution_count": 12,
   "metadata": {},
   "outputs": [],
   "source": [
    "# import sqlite3 (library to talk to database) and pandas as pd (to visulize data)\n",
    "import sqlite3\n",
    "import pandas as pd"
   ]
  },
  {
   "cell_type": "markdown",
   "metadata": {},
   "source": [
    "##### Step 2: Connect to the Database\n",
    "\n",
    "To use the sqlite3 Python object to open a connection, call the method connect of the object sqlite3. This method takes a string containing the name of the database for which the connection is needed.\n",
    "\n",
    "**sqlite3.connect(\"/path/starfan.db\")**"
   ]
  },
  {
   "cell_type": "code",
   "execution_count": 15,
   "metadata": {},
   "outputs": [],
   "source": [
    "# Save the above connection in conn variable (ensure correct path before you run this cell)\n",
    "conn = sqlite3.connect(\"/path/starfan.db\")"
   ]
  },
  {
   "cell_type": "markdown",
   "metadata": {},
   "source": [
    "> Now that the connection to the database is established,  accessible via connvariable, we need a way to navigate through the database.   \n",
    "\n",
    "> Use **cursor()** which acts as a moveable pointer inside the database. It enables us to navigate through tables and records.   \n",
    "\n",
    "> Cursor specifies what cell (table, column, and row) is to be read from or written to.   \n",
    "\n",
    "> To create the cursor, call the method cursor() and established database connection.  \n",
    "\n",
    "**conn.cursor()**  <- type this in the code cell and observe what happens"
   ]
  },
  {
   "cell_type": "code",
   "execution_count": 38,
   "metadata": {},
   "outputs": [],
   "source": []
  },
  {
   "cell_type": "markdown",
   "metadata": {},
   "source": [
    "###### Use another variable to store the details of the newly created cursor object. The line of code below stores the details of the cursor in the cur variable:\n",
    "\n"
   ]
  },
  {
   "cell_type": "code",
   "execution_count": 22,
   "metadata": {},
   "outputs": [],
   "source": [
    "cur = conn.cursor()"
   ]
  },
  {
   "cell_type": "markdown",
   "metadata": {},
   "source": [
    "#### Step 3: Execute a query on Database table"
   ]
  },
  {
   "cell_type": "code",
   "execution_count": 23,
   "metadata": {},
   "outputs": [],
   "source": [
    "query = \"SELECT name FROM starwars;\"\n"
   ]
  },
  {
   "cell_type": "markdown",
   "metadata": {},
   "source": [
    "> The results of the query are stored in the cur object. To visualize the results, we must iterate through the cur object, printing out each row.  \n",
    "> Run the code cell below to iterate through cur and print its contents:"
   ]
  },
  {
   "cell_type": "code",
   "execution_count": 34,
   "metadata": {},
   "outputs": [],
   "source": [
    "output = cur.execute(query)"
   ]
  },
  {
   "cell_type": "markdown",
   "metadata": {},
   "source": [
    "> Diplay the output of the above query using output.fetchall() method"
   ]
  },
  {
   "cell_type": "code",
   "execution_count": 37,
   "metadata": {},
   "outputs": [],
   "source": [
    "output.fetchall()"
   ]
  },
  {
   "cell_type": "markdown",
   "metadata": {},
   "source": [
    "Q3: Challenge (not optional - 2 points each)\n",
    "    \n",
    "1) Provide the code to query the names of all the princesses."
   ]
  },
  {
   "cell_type": "code",
   "execution_count": null,
   "metadata": {},
   "outputs": [],
   "source": []
  },
  {
   "cell_type": "markdown",
   "metadata": {},
   "source": [
    "2) Provide the code to query the names of all the princesses and the debt collectors."
   ]
  },
  {
   "cell_type": "code",
   "execution_count": null,
   "metadata": {},
   "outputs": [],
   "source": []
  },
  {
   "cell_type": "markdown",
   "metadata": {},
   "source": [
    "3). Provide the code to query the names and phone numbers of the droids?"
   ]
  },
  {
   "cell_type": "code",
   "execution_count": null,
   "metadata": {},
   "outputs": [],
   "source": []
  },
  {
   "cell_type": "markdown",
   "metadata": {},
   "source": [
    "**Submission Instruction:**\n",
    "    1. Rename as per previous lab instructions\n",
    "    2. Go back to the top of the document, convert file into pdf and submit in dropbox. "
   ]
  },
  {
   "cell_type": "code",
   "execution_count": null,
   "metadata": {},
   "outputs": [],
   "source": []
  }
 ],
 "metadata": {
  "anaconda-cloud": {},
  "kernelspec": {
   "display_name": "Python [default]",
   "language": "python",
   "name": "python3"
  },
  "language_info": {
   "codemirror_mode": {
    "name": "ipython",
    "version": 3
   },
   "file_extension": ".py",
   "mimetype": "text/x-python",
   "name": "python",
   "nbconvert_exporter": "python",
   "pygments_lexer": "ipython3",
   "version": "3.5.2"
  }
 },
 "nbformat": 4,
 "nbformat_minor": 2
}
